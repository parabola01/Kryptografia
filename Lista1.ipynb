{
 "cells": [
  {
   "cell_type": "markdown",
   "metadata": {},
   "source": [
    "# Lista 1 (9 pkt.)"
   ]
  },
  {
   "cell_type": "code",
   "execution_count": 1,
   "metadata": {},
   "outputs": [],
   "source": [
    "import string\n",
    "import matplotlib.pyplot as plt\n",
    "import numpy as np"
   ]
  },
  {
   "cell_type": "markdown",
   "metadata": {},
   "source": [
    "## Zadanie 1 (1 pkt.)"
   ]
  },
  {
   "cell_type": "markdown",
   "metadata": {},
   "source": [
    "Zaimplementuj szyfr Cezara. Napisz funkcję **Cezar(tekst, klucz)** tak aby jako argumenty przyjmowała tekst do zaszyfrowania oraz klucz a zwracała zaszyfrowany tekst. Funkcja ta dostając jako argumenty zaszyfrowany tekst oraz **-klucz** (klucz, ktorym zaszyfrowano tekst ze znakiem minus) będzie zwracała odszyfrowany tekst. Funkcja powinna przejść testy, czyli powinna 8 razy zwrócić **True**.\n",
    "\n",
    "Pamiętaj o polskich znakach. Szyfrujemy tylko litery, natomiast cyfry, znaki interpunkcyjne i białe znaki zostają bez zmian. Wielkie litery po zaszyfrowaniu są również wielkie. Użyj poniższego alfabetu."
   ]
  },
  {
   "cell_type": "code",
   "execution_count": 2,
   "metadata": {},
   "outputs": [],
   "source": [
    "alfabet = ['a','ą', 'b', 'c', 'ć', 'd', 'e', 'ę', 'f', 'g', 'h', 'i', 'j', 'k', 'l', 'ł', 'm', \n",
    "           'n', 'ń', 'o','ó', 'p', 'q','r', 's', 'ś', 't', 'u','v', 'w', 'x','y', 'z','ź','ż']"
   ]
  },
  {
   "cell_type": "markdown",
   "metadata": {},
   "source": [
    "Przy implementacji mogą być przydatne takie elementy biblioteki string jak: **string.punctuation, string.whitespace, string.digits, upper(), lower(), isupper()**"
   ]
  },
  {
   "cell_type": "code",
   "execution_count": 3,
   "metadata": {},
   "outputs": [],
   "source": [
    "def Cezar(tekst,klucz):\n",
    "    result = ''\n",
    "    size = len(alfabet)\n",
    "    for letter in tekst:\n",
    "        if letter in alfabet:\n",
    "            index = alfabet.index(letter)\n",
    "            index = (index + klucz) % size\n",
    "            new = alfabet[index]\n",
    "        elif letter.isupper():\n",
    "            if letter.lower() in alfabet:\n",
    "                letter = letter.lower()\n",
    "                index = alfabet.index(letter)\n",
    "                index = (index + klucz) % size\n",
    "                new = alfabet[index].upper()\n",
    "        else:\n",
    "            new = letter\n",
    "        result += new\n",
    "          \n",
    "    return result"
   ]
  },
  {
   "cell_type": "code",
   "execution_count": 4,
   "metadata": {},
   "outputs": [
    {
     "name": "stdout",
     "output_type": "stream",
     "text": [
      "True\n",
      "True\n",
      "True\n",
      "True\n",
      "True\n",
      "True\n",
      "True\n",
      "True\n"
     ]
    }
   ],
   "source": [
    "print(Cezar('Ala ma kota.',3)=='Cnc oc mqwc.')\n",
    "print(Cezar('Ala ma kota.',20)=='Óżó ąó źćió.')\n",
    "print(Cezar('Ala ma 2 koty.',5)=='Dod pd 2 ńsyą.')\n",
    "print(Cezar('Daremne żale, próżny trud,\\nBezsilne złorzeczenia!\\nPrzeżytych kształtów żaden cud\\nNie wróci do istnienia.',7)\n",
    "                  =='Jęxkrsk eępk, vxuesc źxżj,\\nGkćyńpsk ćqtxćkhćksńę!\\nVxćkecźchn óyćźęqźuą eęjks hżj\\nSńk ąxuhń jt ńyźsńksńę.')\n",
    "print(Cezar('Cnc oc mqwc.',-3)=='Ala ma kota.')\n",
    "print(Cezar('Óżó ąó źćió.',-20)=='Ala ma kota.')\n",
    "print(Cezar('Dod pd 2 ńsyą.',-5)=='Ala ma 2 koty.')\n",
    "print(Cezar('Jęxkrsk eępk, vxuesc źxżj,\\nGkćyńpsk ćqtxćkhćksńę!\\nVxćkecźchn óyćźęqźuą eęjks hżj\\nSńk ąxuhń jt ńyźsńksńę.',-7)\n",
    "                  =='Daremne żale, próżny trud,\\nBezsilne złorzeczenia!\\nPrzeżytych kształtów żaden cud\\nNie wróci do istnienia.')"
   ]
  },
  {
   "cell_type": "markdown",
   "metadata": {},
   "source": [
    "## Zadanie 2 (1 pkt.)"
   ]
  },
  {
   "cell_type": "markdown",
   "metadata": {},
   "source": [
    "Wiedząc, że poniższy tekst zaszyfrowano metodą Cezara, odszyfruj go metodą \"brute force\". Co to za cytat?"
   ]
  },
  {
   "cell_type": "code",
   "execution_count": 5,
   "metadata": {},
   "outputs": [
    {
     "name": "stdout",
     "output_type": "stream",
     "text": [
      "1 Gcbqdj ńjxz gcex? Ńjyón rnoz qrnj ś zś rnj ubze, anjq. Ńjyón ubzeńęgjqź źxnpźńk abzpźqegcbh, rnj anjq.\n",
      "2 Fbąpći niwy fbdw? Nixom qmńy pqmi s ys qmi tąyd, żmip. Nixom tąydnefipz zwmóznj żąyózpdfbąg, qmi żmip.\n",
      "3 Ęąaóch mhvx ęąćv? Mhwńł płnx ópłh r xr płh śaxć, źłhó. Mhwńł śaxćmdęhóy yvłoymi źaxoyóćęąaf, płh źłhó.\n",
      "4 Eażobg łguw eacu? Łgvnl ólmw oólg q wq ólg sżwc, zlgo. Łgvnl sżwcłćegox xulńxłh zżwńxoceażę, ólg zlgo.\n",
      "5 Dżźńąf lftv dżbt? Lfumk okłv ńokf p vp okf rźvb, ykfń. Lfumk rźvblcdfńw wtknwlg yźvnwńbdżźe, okf ykfń.\n",
      "6 Ćźznaę kęśu ćźąś? Kętłj ńjlu nńję ó uó ńję qzuą, xjęn. Kętłj qzuąkbćęnv vśjmvkf xzumvnąćźzd, ńję xjęn.\n",
      "7 Czymże jest czas? Jeśli nikt mnie o to nie pyta, wiem. Jeśli pytającemu usiłuję wytłumaczyć, nie wiem.\n",
      "8 Byxłźd idrś byżr? Idskh mhjś łmhd ń śń mhd óxśż, vhdł. Idskh óxśżiabdłt trhltie vxśltłżbyxc, mhd vhdł.\n",
      "9 Ąxwlzć hćqs ąxźq? Hćrjg łgis lłgć n sn łgć owsź, ugćl. Hćrjg owsźhżąćlś śqgkśhd uwskślźąxwb, łgć ugćl.\n",
      "10 Awvkyc gcpr awzp? Gcqif lfhr klfc m rm lfc ńvrz, tfck. Gcqif ńvrzgźacks spfjsgć tvrjskzawvą, lfc tfck.\n",
      "11 Żvujxb fbóq żvyó? Fbphę kęgq jkęb ł qł kęb nuqy, śębj. Fbphę nuqyfzżbjr róęirfc śuqirjyżvua, kęb śębj.\n",
      "12 Źutiwą ęąop źuxo? Ęąóge jefp ijeą l pl jeą mtpx, seąi. Ęąóge mtpxęyźąiq qoehqęb stphqixźutż, jeą seąi.\n",
      "13 Ztśhva eańó ztwń? Eaofd idęó hida k ók ida łśów, rdah. Eaofd łśówexzahp pńdgpeą rśógphwztśź, ida rdah.\n",
      "14 Yśsguż dżno yśvn? Dżńęć hćeo ghćż j oj hćż lsov, qćżg. Dżńęć lsovdwyżgó ónćfóda qsofógvyśsz, hćż qćżg.\n",
      "15 Xsrftź ćźmń xsum? Ćźnec gcdń fgcź i ńi gcź krńu, pcźf. Ćźnec krńućvxźfo omcęoćż prńęofuxsry, gcź pcźf.\n",
      "16 Wrqęśz człn wrtł? Czmdb fbćn ęfbz h nh fbz jqnt, óbzę. Czmdb jqntcuwzęń ńłbeńcź óqneńętwrqx, fbz óbzę.\n",
      "17 Vqpesy bylm vqśl? Byłćą ęącm eęąy g mg ęąy ipmś, oąye. Byłćą ipmśbtvyen nlądnbz opmdneśvqpw, ęąy oąye.\n",
      "18 Upódrx ąxkł upsk? Ąxlca eabł deax f łf eax hółs, ńaxd. Ąxlca hółsąśuxdm mkaćmąy ńółćmdsupóv, eax ńaxd.\n",
      "19 Tóoćqw awjl tórj? Awkbż dżąl ćdżw ę lę dżw golr, nżwć. Awkbż golrastwćł łjżcłax nolcłćrtóou, dżw nżwć.\n",
      "20 Śońcpv żvik śoqi? Żvjąź ćźak cćźv e ke ćźv fńkq, mźvc. Żvjąź fńkqżrśvcl liźblżw mńkblcqśońt, ćźv mźvc.\n",
      "21 Sńnbóu źuhj sńph? Źuiaz czżj bczu d jd czu ęnjp, łzub. Źuiaz ęnjpźqsubk khząkźv łnjąkbpsńnś, czu łzub.\n",
      "22 Rnmąot ztgi rnóg? Zthży byźi ąbyt ć ić byt emió, lytą. Zthży emiózprtąj jgyajzu lmiająórnms, byt lytą.\n",
      "23 Qmłańś yśfh qmof? Yśgźx ąxzh aąxś c hc ąxś dłho, kxśa. Yśgźx dłhoyóqśai ifxżiyt kłhżiaoqmłr, ąxś kxśa.\n",
      "24 Płlżns xsęg płńę? Xsfzw awyg żaws b gb aws ćlgń, jwsż. Xsfzw ćlgńxopsżh hęwźhxś jlgźhżńpłlq, aws jwsż.\n",
      "25 Ólkźmr wref ólne? Wręyv żvxf źżvr ą fą żvr ckfn, ivrź. Wręyv ckfnwńórźg gevzgws ikfzgźnólkp, żvr ivrź.\n",
      "26 Okjzłq vqdę okmd? Vqexu źuwę zźuq a ęa źuq bjęm, huqz. Vqexu bjęmvnoqzf fduyfvr hjęyfzmokjó, źuq huqz.\n",
      "27 Ńjiylp upće ńjłć? Updwt ztve yztp ż eż ztp ąieł, gtpy. Updwt ąiełumńpyę ęćtxęuq giexęyłńjio, ztp gtpy.\n",
      "28 Nihxkó tócd nilc? Tóćvś yśud xyśó ź dź yśó ahdl, fśóx. Tóćvś ahdltłnóxe ecśwetp fhdwexlnihń, yśó fśóx.\n",
      "29 Mhgwjo śobć mhkb? Śocus xstć wxso z ćz xso żgćk, ęsow. Śocus żgćkślmowd dbsvdśó ęgćvdwkmhgn, xso ęsow.\n",
      "30 Łgfviń sńąc łgją? Sńbtr wrśc vwrń y cy wrń źfcj, erńv. Sńbtr źfcjskłńvć ćąrućso efcućvjłgfm, wrń erńv.\n",
      "31 Lfęuhn rnab lfia? Rnąśq vqsb uvqn x bx vqn zębi, dqnu. Rnąśq zębirjlnuc caqtcrń dębtcuilfęł, vqn dqnu.\n",
      "32 Kęetgm qmżą kęhż? Qmasp uprą tupm w ąw upm yeąh, ćpmt. Qmasp yeąhqikmtb bżpśbqn ćeąśbthkęel, upm ćpmt.\n",
      "33 Jedśfł płźa jegź? Płżró tóqa śtół v av tół xdag, cółś. Płżró xdagphjłśą ąźósąpm cdasąśgjedk, tół cółś.\n",
      "34 Idćsęl ólzż idfz? Ólźqo śopż sśol u żu śol wćżf, bols. Ólźqo wćżfógilsa azoraół bćżrasfidćj, śol bols.\n",
      "\n",
      "Result:\n",
      "Czymże jest czas? Jeśli nikt mnie o to nie pyta, wiem. Jeśli pytającemu usiłuję wytłumaczyć, nie wiem.\n",
      "Wyznania św. Augustyna\n"
     ]
    }
   ],
   "source": [
    "tekst = 'Hćcrek okyź hćęy? Okzpń sńóź rsńk t źt sńk vcźę, ąńkr. Okzpń vcźęofhkrż żyńqżol ącźqżręhćci, sńk ąńkr.'\n",
    "\n",
    "\n",
    "for i in range(1, len(alfabet)):\n",
    "    print(i, Cezar(tekst, -i))\n",
    "    \n",
    "print('\\nResult:')\n",
    "print(Cezar(tekst, -7))\n",
    "print('Wyznania św. Augustyna')"
   ]
  },
  {
   "cell_type": "markdown",
   "metadata": {},
   "source": [
    "## Zadanie 3 (2 pkt.)"
   ]
  },
  {
   "cell_type": "markdown",
   "metadata": {},
   "source": [
    "Plik **'ksiazka1.txt'** zawiera tekst pewnej książki zaszyfrowany metodą Cezara. Dokonaj analizy statystycznej liter i na tej podstawie znajdź klucz oraz odszyfruj tekst. Jaka to książka?\n",
    "\n",
    "Do wczytania pliku możesz użyć poniższego kodu."
   ]
  },
  {
   "cell_type": "code",
   "execution_count": 6,
   "metadata": {
    "scrolled": true
   },
   "outputs": [
    {
     "data": {
      "text/plain": [
       "<BarContainer object of 33 artists>"
      ]
     },
     "execution_count": 6,
     "metadata": {},
     "output_type": "execute_result"
    },
    {
     "data": {
      "image/png": "[encoded data removed]",
      "text/plain": [
       "<Figure size 640x480 with 1 Axes>"
      ]
     },
     "metadata": {},
     "output_type": "display_data"
    }
   ],
   "source": [
    "import matplotlib.pyplot as plt\n",
    "import collections\n",
    "import locale\n",
    "\n",
    "\n",
    "plik=open('ksiazka1.txt', encoding='utf8')\n",
    "ksiazka=plik.read()\n",
    "plik.close()\n",
    "\n",
    "locale.setlocale(locale.LC_ALL, 'pl_PL.UTF-8')\n",
    "\n",
    "letters = {}\n",
    "for sign in ksiazka:\n",
    "    if sign in letters:\n",
    "        letters[sign] += 1\n",
    "    elif sign in alfabet:\n",
    "        letters[sign] = 1\n",
    "        \n",
    "dict_ = collections.OrderedDict(sorted(letters.items(), key=lambda item: locale.strxfrm(item[0])))\n",
    "plt.bar(dict_.keys(), dict_.values())\n"
   ]
  },
  {
   "cell_type": "code",
   "execution_count": 7,
   "metadata": {},
   "outputs": [
    {
     "name": "stdout",
     "output_type": "stream",
     "text": [
      "Tom I\n",
      "\n",
      "\n",
      "\n",
      "Wstęp\n",
      "\n",
      "W północno-wschodnim kącie Afryki leży Egipt, ojczyzna najstarszej cywilizacji w świecie. Przed trzema, czterema, a nawet pięcioma tysiącami lat, kiedy w środkowej Europie odziani w surowe skóry barbarzyńcy kryli się po jaskiniach, Egipt - już posiadał wysoką organizację społeczną, rolnictwo, rzemiosła i literaturę. Nade wszystko zaś wykonywał olbrzymie prace inżynierskie i wznosił kolosalne budowle, których szczątki budzą podziw w technikach nowożytnych.\n",
      "\n",
      "Egipt - jest to żyzny wąwóz między pustynią Libijską i Arabską. Głębokość jego wynosi kilkaset metrów, długość sto trzydzieści mil, średnia szerokość zaledwo milę. Od zachodu - łagodne, ale nagie wzgórza libijskie, od wschodu strome i popękane skały arabskie są ścianami tego korytarza, którego dnem płynie rzeka - Nil.\n",
      "\n",
      "Z biegiem rzeki, na północ, ściany wąwozu zniżają się, a w odległości dwudziestu pięciu mil od Morza Śródziemnego nagle rozchodzą się, i Nil, zamiast płynąć ciasnym korytarzem, rozlewa się kilkoma ramionami po obszernej równinie mającej kształt trójkąta. Trójkąt ten, zwany Deltą Nilową, ma za podstawę brzeg Morza Śródziemnego, zaś u wierzchołka, przy wyjściu rzeki z wąwozu, miasto Kair tudzież gruzy przedwiekowej stolicy, Memfisu.\n",
      "\n",
      "Gdyby kto mógł wznieść się o dwadzieścia mil w górę i stamtąd spoj\n"
     ]
    }
   ],
   "source": [
    "result = Cezar(ksiazka, -4)\n",
    "print(result[:1300])"
   ]
  },
  {
   "cell_type": "markdown",
   "metadata": {},
   "source": [
    "Słownik **czestoliwosc** zawiera częstotliwości występowania liter w języku polskim."
   ]
  },
  {
   "cell_type": "code",
   "execution_count": 8,
   "metadata": {},
   "outputs": [],
   "source": [
    "czestotliwosc = {'a':0.0891,'ą':0.0099, 'b':0.0147, 'c':0.0396, 'ć':0.004, 'd':0.0325, 'e':0.0766, 'ę':0.0111, 'f':0.003, \n",
    "                 'g':0.0142, 'h':0.0108, 'i':0.0821, 'j':0.0228, 'k':0.0351, 'l':0.021, 'ł':0.0182,'m':0.028, 'n':0.0552, \n",
    "                 'ń':0.002, 'o':0.0775,'ó':0.0085, 'p':0.0313, 'q':0.0014, 'r':0.0469, 's':0.0432,'ś':0.0066, 't':0.0398,\n",
    "                 'u':0.025, 'v': 0.0004, 'w':0.0465 ,'x':0.0002,'y':0.0376, 'z':0.0564,'ź':0.0006,'ż':0.0083}"
   ]
  },
  {
   "cell_type": "code",
   "execution_count": 9,
   "metadata": {},
   "outputs": [
    {
     "data": {
      "text/plain": [
       "<BarContainer object of 35 artists>"
      ]
     },
     "execution_count": 9,
     "metadata": {},
     "output_type": "execute_result"
    },
    {
     "data": {
      "image/png": "[encoded data removed]",
      "text/plain": [
       "<Figure size 640x480 with 1 Axes>"
      ]
     },
     "metadata": {},
     "output_type": "display_data"
    }
   ],
   "source": [
    "plt.bar(czestotliwosc.keys(),czestotliwosc.values())"
   ]
  },
  {
   "cell_type": "markdown",
   "metadata": {},
   "source": [
    "## Zadanie 4 (2 pkt.)"
   ]
  },
  {
   "cell_type": "markdown",
   "metadata": {},
   "source": [
    "Napisz dwie funkcje, szyfrującą i deszyfrującą, dla szyfru Vignere'a. Funkcja **Vignere_zaszyfruj(tekst, klucz)** przyjmuje jako argumenty tekst do zaszyfrowania oraz klucz w postaci słowa. Podobnie funkcja **Vignere_odszyfruj(tekst, klucz)** przyjmuje jako argumenty tekst zaszyfrowany oraz klucz w postaci słowa. Może być przydatne skorzystanie z zamiany liter na liczby (tzn. na liczby określające pozycję litery w alfabecie):"
   ]
  },
  {
   "cell_type": "code",
   "execution_count": 10,
   "metadata": {},
   "outputs": [],
   "source": [
    "liczb_do_lit=dict()\n",
    "lit_do_liczb=dict()\n",
    "for i,l in enumerate(alfabet):\n",
    "    liczb_do_lit[i]=l\n",
    "    lit_do_liczb[l]=i"
   ]
  },
  {
   "cell_type": "code",
   "execution_count": 11,
   "metadata": {},
   "outputs": [],
   "source": [
    "import string\n",
    "\n",
    "def Vignere_zaszyfruj(tekst,klucz):\n",
    "    tekst = list(tekst)\n",
    "    crypted = ''\n",
    "    klucz_index = -1\n",
    "    for letter in tekst:\n",
    "        if letter in alfabet or letter.lower() in alfabet:\n",
    "            klucz_index = (klucz_index + 1) % len(klucz)\n",
    "        shift = lit_do_liczb.get(klucz[klucz_index])\n",
    "        if letter in alfabet:\n",
    "            letter_index_1 = alfabet.index(letter)\n",
    "            letter_index = (letter_index_1 + shift) % len(alfabet)\n",
    "            result = alfabet[letter_index]\n",
    "        elif letter.isupper():\n",
    "            letter_index_1 = alfabet.index(letter.lower())\n",
    "            letter_index = (letter_index_1 + shift) % len(alfabet)\n",
    "            result = alfabet[letter_index]\n",
    "            result = result.upper()\n",
    "        else:\n",
    "            result = letter\n",
    "            \n",
    "        crypted += result\n",
    "    return crypted"
   ]
  },
  {
   "cell_type": "code",
   "execution_count": 12,
   "metadata": {},
   "outputs": [],
   "source": [
    "def Vignere_odszyfruj(tekst,klucz):\n",
    "    tekst = list(tekst)\n",
    "    decrypted = ''\n",
    "    klucz_index = -1\n",
    "    for letter in tekst:\n",
    "        if letter in alfabet or letter.lower() in alfabet:\n",
    "            klucz_index = (klucz_index + 1) % len(klucz)\n",
    "        shift = lit_do_liczb.get(klucz[klucz_index])\n",
    "        if letter in alfabet:\n",
    "            letter_index_1 = alfabet.index(letter)\n",
    "            letter_index = (letter_index_1 - shift) % len(alfabet)\n",
    "            result = alfabet[letter_index]\n",
    "        elif letter.lower() in alfabet:\n",
    "            letter_index_1 = alfabet.index(letter.lower())\n",
    "            letter_index = (letter_index_1 - shift) % len(alfabet)\n",
    "            result = alfabet[letter_index]\n",
    "            result = result.upper()\n",
    "        else:\n",
    "            result = letter\n",
    "            \n",
    "        decrypted += result\n",
    "    return decrypted"
   ]
  },
  {
   "cell_type": "code",
   "execution_count": 13,
   "metadata": {
    "scrolled": true
   },
   "outputs": [
    {
     "name": "stdout",
     "output_type": "stream",
     "text": [
      "True\n",
      "True\n",
      "True\n",
      "True\n",
      "True\n",
      "True\n",
      "True\n",
      "True\n"
     ]
    }
   ],
   "source": [
    "print(Vignere_zaszyfruj('Ala ma kota.','ela')=='Eva ql kśda.')\n",
    "print(Vignere_zaszyfruj('Ala ma kota.','tygrys')=='Thg ćy bhqg.')\n",
    "print(Vignere_zaszyfruj('Ala ma 2 koty.','indywidualistyczny')=='Iyd jw 2 ssńy.')\n",
    "print(Vignere_zaszyfruj('Daremne żale, próżny trud,\\nBezsilne złorzeczenia!\\nPrzeżytych kształtów żaden cud\\nNie wróci do istnienia.','asnyk')\n",
    "                  =='Dsdbwnx myue, hdmjnó fodd,\\nTrvbicżb hłfdvocprksa!\\nHdvożófumh bevćaćfmę żsqbx cmq\\nKse ńdmmi wą ębtevbxis.')\n",
    "print(Vignere_odszyfruj('Eva ql kśda.','ela')=='Ala ma kota.')\n",
    "print(Vignere_odszyfruj('Thg ćy bhqg.','tygrys')=='Ala ma kota.')\n",
    "print(Vignere_odszyfruj('Iyd jw 2 ssńy.','indywidualistyczny')=='Ala ma 2 koty.')\n",
    "print(Vignere_odszyfruj('Dsdbwnx myue, hdmjnó fodd,\\nTrvbicżb hłfdvocprksa!\\nHdvożófumh bevćaćfmę żsqbx cmq\\nKse ńdmmi wą ębtevbxis.','asnyk')\n",
    "                  =='Daremne żale, próżny trud,\\nBezsilne złorzeczenia!\\nPrzeżytych kształtów żaden cud\\nNie wróci do istnienia.')"
   ]
  },
  {
   "cell_type": "markdown",
   "metadata": {},
   "source": [
    "## Zadanie 5 (3 pkt.)"
   ]
  },
  {
   "cell_type": "markdown",
   "metadata": {},
   "source": [
    "Plik **'ksiazka2.txt'** zawiera tekst pewnej książki zaszyfrowany metodą Vignere'a. Dokonaj analizy statystycznej liter i na tej podstawie znajdź klucz oraz odszyfruj tekst. Jaka to książka?\n",
    "\n",
    "Wskazówka I: Zauważ, że w metodzie Vignere'a co $n$-ta litera (gdzie $n$ to długość klucza) jest zaszyfrowana metodą Cezara.\n",
    "\n",
    "Wskazówka II: Najpierw ustal długość klucza $n$.\n",
    "\n",
    "Do wczytania pliku możesz użyć poniższego kodu."
   ]
  },
  {
   "cell_type": "code",
   "execution_count": 14,
   "metadata": {
    "scrolled": true
   },
   "outputs": [],
   "source": [
    "plik=open('ksiazka2.txt', encoding='utf8')\n",
    "ksiazka=plik.read()\n",
    "plik.close()\n",
    "\n",
    "letters = {}\n",
    "for sign in ksiazka:\n",
    "    if sign in letters:\n",
    "        letters[sign] += 1\n",
    "    elif sign in alfabet:\n",
    "        letters[sign] = 1"
   ]
  },
  {
   "cell_type": "code",
   "execution_count": 15,
   "metadata": {},
   "outputs": [],
   "source": [
    "import re\n",
    "#pozbywam się spacji i znaków specjalnych\n",
    "ksiazka = re.sub(r'[^a-zA-Z0-9ąćęłńóśźżĄĆĘŁŃÓŚŹŻ]', '', ksiazka)"
   ]
  },
  {
   "cell_type": "code",
   "execution_count": 16,
   "metadata": {
    "scrolled": false
   },
   "outputs": [
    {
     "name": "stdout",
     "output_type": "stream",
     "text": [
      "Liczba powtórzeń dla przesunięcia 1: 9327\n",
      "Liczba powtórzeń dla przesunięcia 2: 6347\n",
      "Liczba powtórzeń dla przesunięcia 3: 6317\n",
      "Liczba powtórzeń dla przesunięcia 4: 11492\n",
      "Liczba powtórzeń dla przesunięcia 5: 6418\n",
      "Liczba powtórzeń dla przesunięcia 6: 6841\n",
      "Liczba powtórzeń dla przesunięcia 7: 6505\n",
      "Liczba powtórzeń dla przesunięcia 8: 11880\n",
      "Liczba powtórzeń dla przesunięcia 9: 6344\n",
      "Liczba powtórzeń dla przesunięcia 10: 6631\n",
      "Liczba powtórzeń dla przesunięcia 11: 6373\n",
      "Liczba powtórzeń dla przesunięcia 12: 11867\n",
      "Liczba powtórzeń dla przesunięcia 13: 6494\n",
      "Liczba powtórzeń dla przesunięcia 14: 6835\n",
      "Liczba powtórzeń dla przesunięcia 15: 6497\n",
      "Liczba powtórzeń dla przesunięcia 16: 11843\n",
      "Liczba powtórzeń dla przesunięcia 17: 6483\n",
      "Liczba powtórzeń dla przesunięcia 18: 6756\n",
      "Liczba powtórzeń dla przesunięcia 19: 6406\n"
     ]
    }
   ],
   "source": [
    "def przesun_tekst(tekst, ilosc_znakow):\n",
    "    if ilosc_znakow >= 1:\n",
    "        nowy_tekst = ' ' * ilosc_znakow + tekst\n",
    "    else:\n",
    "        nowy_tekst = tekst\n",
    "    dlugosc_oryginalnego_tekstu = len(tekst)\n",
    "    if dlugosc_oryginalnego_tekstu < len(nowy_tekst):\n",
    "        nowy_tekst = nowy_tekst[:dlugosc_oryginalnego_tekstu]\n",
    "    return nowy_tekst\n",
    "\n",
    "def zlicz_powtorzenia(tekst, przesuniecie):\n",
    "    tekst = tekst.lower()\n",
    "    przesuniety_tekst = przesun_tekst(tekst, przesuniecie)\n",
    "    licznik_powtorzen = 0\n",
    "\n",
    "    for i in range(len(tekst)):\n",
    "        if tekst[i] == przesuniety_tekst[i] and tekst[i] in alfabet:\n",
    "            licznik_powtorzen += 1\n",
    "\n",
    "    return licznik_powtorzen\n",
    "\n",
    "# szukam klucza \n",
    "slownik = {}\n",
    "for i in range(1,20):\n",
    "    przesuniecie = i\n",
    "    liczba_powtorzen = zlicz_powtorzenia(ksiazka, przesuniecie)\n",
    "    print(f\"Liczba powtórzeń dla przesunięcia {przesuniecie}: {liczba_powtorzen}\")\n",
    "    slownik[przesuniecie] = liczba_powtorzen"
   ]
  },
  {
   "cell_type": "code",
   "execution_count": 17,
   "metadata": {},
   "outputs": [
    {
     "data": {
      "text/plain": [
       "<BarContainer object of 19 artists>"
      ]
     },
     "execution_count": 17,
     "metadata": {},
     "output_type": "execute_result"
    },
    {
     "data": {
      "image/png": "[encoded data removed]",
      "text/plain": [
       "<Figure size 640x480 with 1 Axes>"
      ]
     },
     "metadata": {},
     "output_type": "display_data"
    }
   ],
   "source": [
    "plt.bar(slownik.keys(), slownik.values())\n",
    "# długość klucza = 4"
   ]
  },
  {
   "cell_type": "code",
   "execution_count": 18,
   "metadata": {},
   "outputs": [],
   "source": [
    "# grupuje co czwartą litere bo są one kodowane przez są samą litere klucza\n",
    "def grupuj(tekst):\n",
    "    strings = [\"\", \"\", \"\", \"\"]\n",
    "    for i, char in enumerate(tekst):\n",
    "        strings[i % 4] += char\n",
    "    return strings    \n",
    "#zostawiam same litery\n",
    "ksiazka = re.sub(r'[^a-zA-ZąćęłńóśźżĄĆĘŁŃÓŚŹŻ]', '', re.sub(r'\\s', '', ksiazka))\n",
    "wynik1, wynik2, wynik3, wynik4 = grupuj(ksiazka)"
   ]
  },
  {
   "cell_type": "code",
   "execution_count": 19,
   "metadata": {},
   "outputs": [],
   "source": [
    "def create_dict(string):\n",
    "    letters = {}\n",
    "    for sign in string:\n",
    "        if sign in letters:\n",
    "            letters[sign] += 1\n",
    "        elif sign in alfabet:\n",
    "            letters[sign] = 1\n",
    "    dict_result = collections.OrderedDict(sorted(letters.items(), key=lambda item: locale.strxfrm(item[0])))\n",
    "    return dict_result\n",
    "\n",
    "dict_wynik1 = create_dict(wynik1)\n",
    "dict_wynik2 = create_dict(wynik2)\n",
    "dict_wynik3 = create_dict(wynik3)\n",
    "dict_wynik4 = create_dict(wynik4)"
   ]
  },
  {
   "cell_type": "code",
   "execution_count": 20,
   "metadata": {
    "scrolled": false
   },
   "outputs": [
    {
     "data": {
      "text/plain": [
       "<BarContainer object of 35 artists>"
      ]
     },
     "execution_count": 20,
     "metadata": {},
     "output_type": "execute_result"
    },
    {
     "data": {
      "image/png": "[encoded data removed]",
      "text/plain": [
       "<Figure size 640x480 with 1 Axes>"
      ]
     },
     "metadata": {},
     "output_type": "display_data"
    }
   ],
   "source": [
    "plt.bar(czestotliwosc.keys(), czestotliwosc.values())"
   ]
  },
  {
   "cell_type": "code",
   "execution_count": 21,
   "metadata": {
    "scrolled": false
   },
   "outputs": [
    {
     "data": {
      "text/plain": [
       "<BarContainer object of 34 artists>"
      ]
     },
     "execution_count": 21,
     "metadata": {},
     "output_type": "execute_result"
    },
    {
     "data": {
      "image/png": "[encoded data removed]",
      "text/plain": [
       "<Figure size 640x480 with 1 Axes>"
      ]
     },
     "metadata": {},
     "output_type": "display_data"
    }
   ],
   "source": [
    "plt.bar(dict_wynik1.keys(), dict_wynik1.values())\n",
    "# key = g"
   ]
  },
  {
   "cell_type": "code",
   "execution_count": 22,
   "metadata": {
    "scrolled": false
   },
   "outputs": [
    {
     "data": {
      "text/plain": [
       "<BarContainer object of 34 artists>"
      ]
     },
     "execution_count": 22,
     "metadata": {},
     "output_type": "execute_result"
    },
    {
     "data": {
      "image/png": "[encoded data removed]",
      "text/plain": [
       "<Figure size 640x480 with 1 Axes>"
      ]
     },
     "metadata": {},
     "output_type": "display_data"
    }
   ],
   "source": [
    "plt.bar(dict_wynik2.keys(), dict_wynik2.values())\n",
    "# key = l"
   ]
  },
  {
   "cell_type": "code",
   "execution_count": 23,
   "metadata": {},
   "outputs": [
    {
     "data": {
      "text/plain": [
       "<BarContainer object of 34 artists>"
      ]
     },
     "execution_count": 23,
     "metadata": {},
     "output_type": "execute_result"
    },
    {
     "data": {
      "image/png": "[encoded data removed]",
      "text/plain": [
       "<Figure size 640x480 with 1 Axes>"
      ]
     },
     "metadata": {},
     "output_type": "display_data"
    }
   ],
   "source": [
    "plt.bar(dict_wynik3.keys(), dict_wynik3.values())\n",
    "# key = o"
   ]
  },
  {
   "cell_type": "code",
   "execution_count": 24,
   "metadata": {},
   "outputs": [
    {
     "data": {
      "text/plain": [
       "<BarContainer object of 34 artists>"
      ]
     },
     "execution_count": 24,
     "metadata": {},
     "output_type": "execute_result"
    },
    {
     "data": {
      "image/png": "[encoded data removed]",
      "text/plain": [
       "<Figure size 640x480 with 1 Axes>"
      ]
     },
     "metadata": {},
     "output_type": "display_data"
    }
   ],
   "source": [
    "plt.bar(dict_wynik4.keys(), dict_wynik4.values())\n",
    "# b"
   ]
  },
  {
   "cell_type": "code",
   "execution_count": 26,
   "metadata": {
    "scrolled": true
   },
   "outputs": [
    {
     "name": "stdout",
     "output_type": "stream",
     "text": [
      "Jules Gabriel Verne, W osiemdziesiąt dni dookoła świata\n",
      "\n",
      "\n",
      "Tom I\n",
      "\n",
      "\n",
      "\n",
      "Wstęp\n",
      "\n",
      "W północno-wschodnim kącie Afryki leży Egipt, ojczyzna najstarszej cywilizacji w świecie. Przed trzema, czterema, a nawet pięcioma tysiącami lat, kiedy w środkowej Europie odziani w surowe skóry barbarzyńcy kryli się po jaskiniach, Egipt - już posiadał wysoką organizację społeczną, rolnictwo, rzemiosła i literaturę. Nade wszystko zaś wykonywał olbrzymie prace inżynierskie i wznosił kolosalne budowle, których szczątki budzą podziw w technikach nowożytnych.\n",
      "\n",
      "Egipt - jest to żyzny wąwóz między pustynią Libijską i Arabską. Głębokość jego wynosi kilkaset metrów, długość sto trzydzieści mil, średnia szerokość zaledwo milę. Od zachodu - łagodne, ale nagie wzgórza libijskie, od wschodu strome i popękane skały arabskie są ścianami tego korytarza, którego dnem płynie rzeka - Nil.\n",
      "\n",
      "Z biegiem rzeki, na północ, ściany wąwozu zniżają się, a w odległości dwudziestu pięciu mil od Morza Śródziemnego nagle rozchodzą się, i Nil, zamiast płynąć ciasnym korytarzem, rozlewa się kilkoma ramionami po obszernej równinie mającej kształt trójkąta. Trójkąt ten, zwany Deltą Nilową, ma za podstawę brzeg Morza Śródziemnego, zaś u wierzchołka, przy wyjściu rzeki z wąwozu, miasto Kair tudzież gruzy przedwiekowej stolicy, Memfisu.\n",
      "\n",
      "Gdyby kto mógł wznieść się o dwadzieścia mil w górę i stamtąd spojrzeć na Egipt, zobaczyłby dziwną formę kraju i osobliwe zmiany jego koloru. Z tej wysokości, na tle białych i pomarańczowych piasków, Egipt wyglądałby jak wąż, który w energicznych skrętach posuwa się\n"
     ]
    }
   ],
   "source": [
    "plik=open('ksiazka2.txt', encoding='utf8')\n",
    "ksiazka_original=plik.read()\n",
    "plik.close()\n",
    "print(\"Jules Gabriel Verne, W osiemdziesiąt dni dookoła świata\")\n",
    "print(\"\\n\")\n",
    "result_Vignere = Vignere_odszyfruj(ksiazka_original, 'glob' )\n",
    "print(result[:1500])"
   ]
  }
 ],
 "metadata": {
  "kernelspec": {
   "display_name": "Python 3 (ipykernel)",
   "language": "python",
   "name": "python3"
  },
  "language_info": {
   "codemirror_mode": {
    "name": "ipython",
    "version": 3
   },
   "file_extension": ".py",
   "mimetype": "text/x-python",
   "name": "python",
   "nbconvert_exporter": "python",
   "pygments_lexer": "ipython3",
   "version": "3.9.13"
  },
  "vscode": {
   "interpreter": {
    "hash": "96ad6c7fd9d06889208fc918e485ee5403ac6f6c27ad3f857e9a26d0c3a3092d"
   }
  }
 },
 "nbformat": 4,
 "nbformat_minor": 4
}
