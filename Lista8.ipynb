{
 "cells": [
  {
   "cell_type": "code",
   "execution_count": 167,
   "metadata": {},
   "outputs": [],
   "source": [
    "import numpy as np\n",
    "import matplotlib.pyplot as plt"
   ]
  },
  {
   "cell_type": "markdown",
   "metadata": {},
   "source": [
    "## Zadanie 1 (2 pkt.)"
   ]
  },
  {
   "cell_type": "markdown",
   "metadata": {},
   "source": [
    "Napisz funkcję **gen(a,b,p)**, która generuje listę punktów reprezentujących krzywą eliptyczną nad $\\mathbb{Z}_p$ o równaniu $y^2=(x^3+ax+b)\\mod p$."
   ]
  },
  {
   "cell_type": "code",
   "execution_count": 168,
   "metadata": {},
   "outputs": [],
   "source": [
    "\n",
    "def gen(a,b,p):\n",
    "    # Znajdź wszystkie punkty na krzywej eliptycznej\n",
    "    points = [] # lista punktów\n",
    "    for x in range(p): # dla każdego x od 0 do p-1\n",
    "        y2 = (x**3 + a*x + b) % p # oblicz y^2 zgodnie z równaniem\n",
    "        for y in range(p): # dla każdego y od 0 do p-1\n",
    "            if (y**2) % p == y2: # sprawdź, czy y jest pierwiastkiem kwadratowym z y^2\n",
    "                points.append([x, y]) # dodaj punkt (x, y) do listy\n",
    "    return points\n"
   ]
  },
  {
   "cell_type": "code",
   "execution_count": 169,
   "metadata": {},
   "outputs": [
    {
     "name": "stdout",
     "output_type": "stream",
     "text": [
      "True\n",
      "True\n",
      "True\n",
      "True\n"
     ]
    }
   ],
   "source": [
    "print(gen(-1,0,7)==[[0, 0], [1, 0], [4, 2], [4, 5], [5, 1], [5, 6], [6, 0]])\n",
    "print(gen(-1,0,11)==[[0, 0], [1, 0], [4, 4], [4, 7], [6, 1], [6, 10], [8, 3], [8, 8], [9, 4], [9, 7], [10, 0]])\n",
    "print(gen(-1,1,7)==[[0, 1], [0, 6], [1, 1], [1, 6], [2, 0], [3, 2], [3, 5], [5, 3], [5, 4], [6, 1], [6, 6]])\n",
    "print(gen(0,2,5)==[[2, 0], [3, 2], [3, 3], [4, 1], [4, 4]])"
   ]
  },
  {
   "cell_type": "markdown",
   "metadata": {},
   "source": [
    "## Zadanie 2 (2 pkt.)"
   ]
  },
  {
   "cell_type": "markdown",
   "metadata": {},
   "source": [
    "Napisz funkcję **add(P,Q,a,p)**, która dodaje do siebie punkty $P$ i $Q$ na krzywej eliptycznej nad ciałem $\\mathbb{Z}_p$ z parametrem $a$. Wykorzystaj wzory z wykładu.\n",
    "\n",
    "$$x_3 = \\left(s^2-x_1-x_2\\right) \\mod p$$\n",
    "$$y_3 = \\left(s\\left(x_1-x_3\\right)-y_1 \\right) \\mod p$$\n",
    "\n",
    "$$s=\\frac{y_2-y_1}{x_2-x_1} \\mod p \\quad P\\neq Q$$\n",
    "$$s=\\frac{3x_1^2+a}{2y_1} \\mod p \\quad P=Q$$\n",
    "\n",
    "$(x_3, y_3)$ to współrzędne punktu będącego sumą punktów $(x_1, y_1)$ i $(x_2, y_2)$. Natomiast $a$ to współczynnik z równania krzywej.\n",
    "\n",
    "Uwaga 1: wszystkie operacje w tych wzorach są na ciele $\\mathbb{Z}_p$ zatem tam gdzie mamy dzielenie mamy tak naprawdę mnożenie przez odwrotność w tym ciele, wykorzystaj tutaj funkcję **inv** z poprzedniej listy, może być potrzeba ją nieco zmodyfikować, ponieważ może się tu pojawić dzielenie przez zero, które daje nam punkt \"w nieskończości\" (na wykładzie: $\\mathcal{O}$).\n",
    "\n",
    "Uwaga 2: Uwzględnij również, że zarówno w wyniku dodawania jak i w argumentach dodawanie może pojawić się punkt \"w nieskończoności\", zwracaj go jako **nan**, tj. za pomocą **float('nan')**, do sprawdzania czy coś jest **nan** użyj **np.isnan()**."
   ]
  },
  {
   "cell_type": "code",
   "execution_count": 170,
   "outputs": [],
   "source": [
    "# Zaimportuj moduł numpy do operacji na liczbach zmiennoprzecinkowych\n",
    "import numpy as np\n",
    "\n",
    "# Zdefiniuj funkcję inv, która znajduje odwrotność modulo p\n",
    "# Uwzględnia ona przypadek, gdy a jest zerem i zwraca nan\n",
    "def inv(a, p):\n",
    "    if a == 0:\n",
    "        return [float('nan'), float('nan')] # zwróć nan, jeśli a jest zerem\n",
    "    else:\n",
    "        return pow(a, p-2, p) # zastosuj małe twierdzenie Fermata\n",
    "\n",
    "# Zdefiniuj funkcję add, która dodaje dwa punkty P i Q na krzywej eliptycznej\n",
    "# Przyjmuje ona parametry a i p równania krzywej\n",
    "def add(P, Q, a, p):\n",
    "    # Sprawdź, czy któryś z punktów jest nan\n",
    "    if np.isnan(P).any() and np.isnan(Q).any():\n",
    "        return [float ('nan'), float('nan')]\n",
    "    elif np.isnan(P).any():\n",
    "        return Q\n",
    "    elif np.isnan(Q).any():\n",
    "        return P\n",
    "    if P == Q:\n",
    "        if P[1] == 0:\n",
    "            return [float('nan'), float('nan')] # zwróć nan, jeśli tak\n",
    "        else:\n",
    "            # Oblicz współczynnik s dla podwojenia punktu\n",
    "            s = (3 * P[0]**2 + a) * inv(2 * P[1], p) % p\n",
    "    else:\n",
    "        if Q[0] - P[0] == 0:\n",
    "            return [float('nan'), float('nan')] # zwróć nan, jeśli tak\n",
    "        else:\n",
    "            # Oblicz współczynnik s dla dodawania różnych punktów\n",
    "            s = (Q[1] - P[1]) * inv(Q[0] - P[0], p) % p\n",
    "    # Oblicz współrzędne punktu R będącego sumą P i Q\n",
    "    x3 = (s**2 - P[0] - Q[0]) % p\n",
    "    y3 = (s * (P[0] - x3) - P[1]) % p\n",
    "    # Zwróć punkt R\n",
    "    return [x3, y3]\n"
   ],
   "metadata": {
    "collapsed": false
   }
  },
  {
   "cell_type": "code",
   "execution_count": 171,
   "metadata": {},
   "outputs": [
    {
     "name": "stdout",
     "output_type": "stream",
     "text": [
      "True\n",
      "True\n",
      "True\n",
      "True\n",
      "[ True  True]\n",
      "[ True  True]\n",
      "True\n",
      "[ True  True]\n"
     ]
    }
   ],
   "source": [
    "print(add([4,2],[5,1],-1,7)==[6,0])\n",
    "print(add([4,2],[4,2],-1,7)==[1,0])\n",
    "print(add([4,2],[5,1],-1,7)==[6,0])\n",
    "print(add([4,2],[float('nan'),float('nan')],-1,7)==[4,2])\n",
    "print(np.isnan(add([float('nan'),float('nan')],[float('nan'),float('nan')],-1,7)))\n",
    "print(np.isnan(add([0,0],[0,0],-1,7)))\n",
    "print(add([2,0],[3,2],0,5)==[4,1])\n",
    "print(np.isnan(add([2,0],[2,0],0,5)))"
   ]
  },
  {
   "cell_type": "markdown",
   "metadata": {},
   "source": [
    "W oparciu o poprzednią funkcję napisz funkcję **multiply(n,P,a,p)**, która mnoży punkt $P$ razy liczbę naturalną $n$ na krzywej eliptycznej nad ciałem $\\mathbb{Z}_p$ z parametrem $a$, tzn. dodaje ten punkt do siebie $n$ razy."
   ]
  },
  {
   "cell_type": "code",
   "execution_count": 172,
   "metadata": {},
   "outputs": [],
   "source": [
    "def multiply(n,P,a,p):\n",
    "    results = [[float('nan'), float('nan')], P, add(P, P, a, p)]\n",
    "    if n < 3:\n",
    "        return results[n]\n",
    "\n",
    "    for i in range(2, n):\n",
    "        if np.isnan(results[i]).any():\n",
    "            return results[i - 1]\n",
    "        else:\n",
    "            result = add(results[1], results[i], a, p)\n",
    "            results.append(result)\n",
    "\n",
    "    return results[n]"
   ]
  },
  {
   "cell_type": "code",
   "execution_count": 173,
   "metadata": {},
   "outputs": [
    {
     "name": "stdout",
     "output_type": "stream",
     "text": [
      "True\n",
      "True\n",
      "True\n",
      "[ True  True]\n",
      "[ True  True]\n",
      "True\n",
      "True\n"
     ]
    }
   ],
   "source": [
    "print(multiply(1,[4,2],-1,7)==[4,2])\n",
    "print(multiply(1,[4,2],-1,7)==[4,2])\n",
    "print(multiply(3,[4,2],-1,7)==[4,5])\n",
    "print(np.isnan(multiply(4,[4,2],-1,7)))\n",
    "print(np.isnan(multiply(2,[float('nan'),float('nan')],-1,7)))\n",
    "print(multiply(5,[2,0],0,5)==[2,0])\n",
    "print(multiply(5,[3,3],0,5)==[3,2])"
   ]
  },
  {
   "cell_type": "markdown",
   "metadata": {},
   "source": [
    "## Zadanie 3 (2 pkt.)"
   ]
  },
  {
   "cell_type": "markdown",
   "metadata": {},
   "source": [
    "Narysuj na wykresie punkty (**plt.scatter()**) reprezentujące krzywą eliptyczną. Stosując funkcję **multiply()** przeanalizuj jaką grupę generuje każdy z punktów tej krzywej, wypisz te grupy. Nie automatyzuj tego, tzn. operacje na punktach wykonuj stosując wcześniejsze funkcje ale analizę poszczególnych grup przeprowadź ręcznie.\n",
    "\n",
    "Na przykład dla krzywej $y^2=x^3-5x$ nad ciałem $\\mathbb{Z}_5$ mamy 5 punktów (łącznie z punktem w nieskończoności, którego nie ma na wykresie, 6 punktów):\n",
    "\n",
    "<img src=\"fig.png\" width=\"500\"/>\n",
    "\n",
    "Punkt $P_0$ generuje dwuelementową grupę:\n",
    "\n",
    "{$P_0,\\mathcal{O}$},\n",
    "\n",
    "bo $2P_0=\\mathcal{O}$,\n",
    "\n",
    "punkt $P_1$ generuje pięcioelementową grupę:\n",
    "\n",
    "{$P_1,P_3,P_4,P_2,\\mathcal{O}$}\n",
    "\n",
    "bo $2P_1=P_3,3P_1=P_4,4P_1=P_2,5P_1=\\mathcal{O}$\n",
    "\n",
    "pozostałe elementy $P_2,P_3,P_4$ generują dokładnie tą samą grupę, zatem na tej krzywej mamy określone dwie grupy jedną dwuelementową i jedną pięcioelementową.\n",
    "\n",
    "Przeprowadź podobną analizę dla przykładów:\n",
    "1. krzywa nad ciałem $\\mathbb{Z}_7$ o równaniu $y^2=x^3-x$\n",
    "2. krzywa nad ciałem $\\mathbb{Z}_5$ o równaniu $y^2=x^3-2x+1$"
   ]
  },
  {
   "cell_type": "code",
   "execution_count": 174,
   "outputs": [],
   "source": [
    "def draw(a,b,p):\n",
    "    points = []\n",
    "    points = gen(a,b,p)\n",
    "    x_vals = [point[0] for point in points]\n",
    "    y_vals = [point[1] for point in points]\n",
    "\n",
    "    plt.scatter(x_vals, y_vals, color='red', marker='o')\n",
    "    plt.xlabel('x')\n",
    "    plt.ylabel('y')\n",
    "    plt.grid(True)\n",
    "    plt.show()\n",
    "    return points\n"
   ],
   "metadata": {
    "collapsed": false
   }
  },
  {
   "cell_type": "markdown",
   "source": [
    "krzywa nad ciałem $\\mathbb{Z}_7$ o równaniu $y^2=x^3-x$"
   ],
   "metadata": {
    "collapsed": false
   }
  },
  {
   "cell_type": "code",
   "execution_count": 177,
   "outputs": [
    {
     "data": {
      "text/plain": "<Figure size 640x480 with 1 Axes>",
      "image/png": "[encoded data removed]"
     },
     "metadata": {},
     "output_type": "display_data"
    },
    {
     "name": "stdout",
     "output_type": "stream",
     "text": [
      "my points:  [[0, 0], [1, 0], [4, 2], [4, 5], [5, 1], [5, 6], [6, 0]]\n"
     ]
    }
   ],
   "source": [
    "points = draw(-1, 0, 7)\n",
    "print(\"my points: \", points)"
   ],
   "metadata": {
    "collapsed": false
   }
  },
  {
   "cell_type": "code",
   "execution_count": 178,
   "outputs": [
    {
     "name": "stdout",
     "output_type": "stream",
     "text": [
      "[nan, nan] for n = 0 for point  [0, 0]\n",
      "[0, 0] for n = 1 for point  [0, 0]\n",
      "[nan, nan] for n = 2 for point  [0, 0]\n",
      "[0, 0] for n = 3 for point  [0, 0]\n",
      "[0, 0] for n = 4 for point  [0, 0]\n",
      "[0, 0] for n = 5 for point  [0, 0]\n",
      "[0, 0] for n = 6 for point  [0, 0]\n",
      "[nan, nan] for n = 0 for point  [1, 0]\n",
      "[1, 0] for n = 1 for point  [1, 0]\n",
      "[nan, nan] for n = 2 for point  [1, 0]\n",
      "[1, 0] for n = 3 for point  [1, 0]\n",
      "[1, 0] for n = 4 for point  [1, 0]\n",
      "[1, 0] for n = 5 for point  [1, 0]\n",
      "[1, 0] for n = 6 for point  [1, 0]\n",
      "[nan, nan] for n = 0 for point  [4, 2]\n",
      "[4, 2] for n = 1 for point  [4, 2]\n",
      "[1, 0] for n = 2 for point  [4, 2]\n",
      "[4, 5] for n = 3 for point  [4, 2]\n",
      "[nan, nan] for n = 4 for point  [4, 2]\n",
      "[4, 5] for n = 5 for point  [4, 2]\n",
      "[4, 5] for n = 6 for point  [4, 2]\n",
      "[nan, nan] for n = 0 for point  [4, 5]\n",
      "[4, 5] for n = 1 for point  [4, 5]\n",
      "[1, 0] for n = 2 for point  [4, 5]\n",
      "[4, 2] for n = 3 for point  [4, 5]\n",
      "[nan, nan] for n = 4 for point  [4, 5]\n",
      "[4, 2] for n = 5 for point  [4, 5]\n",
      "[4, 2] for n = 6 for point  [4, 5]\n",
      "[nan, nan] for n = 0 for point  [5, 1]\n",
      "[5, 1] for n = 1 for point  [5, 1]\n",
      "[1, 0] for n = 2 for point  [5, 1]\n",
      "[5, 6] for n = 3 for point  [5, 1]\n",
      "[nan, nan] for n = 4 for point  [5, 1]\n",
      "[5, 6] for n = 5 for point  [5, 1]\n",
      "[5, 6] for n = 6 for point  [5, 1]\n",
      "[nan, nan] for n = 0 for point  [5, 6]\n",
      "[5, 6] for n = 1 for point  [5, 6]\n",
      "[1, 0] for n = 2 for point  [5, 6]\n",
      "[5, 1] for n = 3 for point  [5, 6]\n",
      "[nan, nan] for n = 4 for point  [5, 6]\n",
      "[5, 1] for n = 5 for point  [5, 6]\n",
      "[5, 1] for n = 6 for point  [5, 6]\n",
      "[nan, nan] for n = 0 for point  [6, 0]\n",
      "[6, 0] for n = 1 for point  [6, 0]\n",
      "[nan, nan] for n = 2 for point  [6, 0]\n",
      "[6, 0] for n = 3 for point  [6, 0]\n",
      "[6, 0] for n = 4 for point  [6, 0]\n",
      "[6, 0] for n = 5 for point  [6, 0]\n",
      "[6, 0] for n = 6 for point  [6, 0]\n"
     ]
    }
   ],
   "source": [
    "for point in points:\n",
    "    for i in range(len(points)):\n",
    "        result = multiply(i, point, -1, 7)\n",
    "        print(result, \"for n =\", i, \"for point \", point)"
   ],
   "metadata": {
    "collapsed": false
   }
  },
  {
   "cell_type": "markdown",
   "source": [
    "0,0 dwuelementowa\n",
    "0,1 inna dwuelementowa\n",
    "4,2 i 4,5 czteroelementowa\n",
    "5,1  czteroelementowa\n",
    "5,6 czteroelementowa\n",
    "6,0 dwuelementowa\n"
   ],
   "metadata": {
    "collapsed": false
   }
  },
  {
   "cell_type": "markdown",
   "source": [
    "krzywa nad ciałem $\\mathbb{Z}_5$ o równaniu $y^2=x^3-2x+1$"
   ],
   "metadata": {
    "collapsed": false
   }
  },
  {
   "cell_type": "code",
   "execution_count": 179,
   "outputs": [
    {
     "data": {
      "text/plain": "<Figure size 640x480 with 1 Axes>",
      "image/png": "[encoded data removed]"
     },
     "metadata": {},
     "output_type": "display_data"
    },
    {
     "name": "stdout",
     "output_type": "stream",
     "text": [
      "my points:  [[0, 1], [0, 4], [1, 0], [2, 0]]\n"
     ]
    }
   ],
   "source": [
    "points = draw(-2, 1, 5)\n",
    "print(\"my points: \", points)"
   ],
   "metadata": {
    "collapsed": false
   }
  },
  {
   "cell_type": "code",
   "execution_count": 180,
   "outputs": [
    {
     "name": "stdout",
     "output_type": "stream",
     "text": [
      "[nan, nan] for n = 0 for point  [0, 1]\n",
      "[0, 1] for n = 1 for point  [0, 1]\n",
      "[1, 0] for n = 2 for point  [0, 1]\n",
      "[0, 4] for n = 3 for point  [0, 1]\n",
      "[nan, nan] for n = 0 for point  [0, 4]\n",
      "[0, 4] for n = 1 for point  [0, 4]\n",
      "[1, 0] for n = 2 for point  [0, 4]\n",
      "[0, 1] for n = 3 for point  [0, 4]\n",
      "[nan, nan] for n = 0 for point  [1, 0]\n",
      "[1, 0] for n = 1 for point  [1, 0]\n",
      "[nan, nan] for n = 2 for point  [1, 0]\n",
      "[1, 0] for n = 3 for point  [1, 0]\n",
      "[nan, nan] for n = 0 for point  [2, 0]\n",
      "[2, 0] for n = 1 for point  [2, 0]\n",
      "[nan, nan] for n = 2 for point  [2, 0]\n",
      "[2, 0] for n = 3 for point  [2, 0]\n"
     ]
    }
   ],
   "source": [
    "for point in points:\n",
    "    for i in range(len(points)):\n",
    "        result = multiply(i, point, -2, 5)\n",
    "        print(result, \"for n =\", i, \"for point \", point)"
   ],
   "metadata": {
    "collapsed": false
   }
  },
  {
   "cell_type": "markdown",
   "source": [
    "0,1 grupa 4-elementowa\n",
    "0,4 to samo\n",
    "1,0 grupa 2-elementowa\n",
    "2,0 to samo\n",
    "mamy trzy grupy: 4-elementowa i dwie 2-elementowa"
   ],
   "metadata": {
    "collapsed": false
   }
  },
  {
   "cell_type": "markdown",
   "metadata": {},
   "source": [
    "## Zadanie 4 (1 pkt)"
   ]
  },
  {
   "cell_type": "markdown",
   "metadata": {},
   "source": [
    "Sprawdź numerycznie, korzystając z funkcji **gen()**, twierdzenie Hassego. Sprawdź, że ze wzrostem liczby pierwszej $p$ dla krzywej o parametrach $a=-1$, $b=0$ liczba punktów na krzywej podąża za oszacowaniem $p+1-2\\sqrt{p}\\leq\\#E\\leq p+1+2\\sqrt{p}$. Narysuj wykres $\\#E(p)$ i proste o równaniach $p+1-2\\sqrt{p}$ oraz $p+1+2\\sqrt{p}$.\n",
    "\n",
    "Uwaga: Możesz wygenerować liczby pierwsze, np. w zakresie od 0 do 1000, za pomocą:"
   ]
  },
  {
   "cell_type": "code",
   "execution_count": 181,
   "metadata": {},
   "outputs": [
    {
     "data": {
      "text/plain": "[2,\n 3,\n 5,\n 7,\n 11,\n 13,\n 17,\n 19,\n 23,\n 29,\n 31,\n 37,\n 41,\n 43,\n 47,\n 53,\n 59,\n 61,\n 67,\n 71,\n 73,\n 79,\n 83,\n 89,\n 97,\n 101,\n 103,\n 107,\n 109,\n 113,\n 127,\n 131,\n 137,\n 139,\n 149,\n 151,\n 157,\n 163,\n 167,\n 173,\n 179,\n 181,\n 191,\n 193,\n 197,\n 199,\n 211,\n 223,\n 227,\n 229,\n 233,\n 239,\n 241,\n 251,\n 257,\n 263,\n 269,\n 271,\n 277,\n 281,\n 283,\n 293,\n 307,\n 311,\n 313,\n 317,\n 331,\n 337,\n 347,\n 349,\n 353,\n 359,\n 367,\n 373,\n 379,\n 383,\n 389,\n 397,\n 401,\n 409,\n 419,\n 421,\n 431,\n 433,\n 439,\n 443,\n 449,\n 457,\n 461,\n 463,\n 467,\n 479,\n 487,\n 491,\n 499,\n 503,\n 509,\n 521,\n 523,\n 541,\n 547,\n 557,\n 563,\n 569,\n 571,\n 577,\n 587,\n 593,\n 599,\n 601,\n 607,\n 613,\n 617,\n 619,\n 631,\n 641,\n 643,\n 647,\n 653,\n 659,\n 661,\n 673,\n 677,\n 683,\n 691,\n 701,\n 709,\n 719,\n 727,\n 733,\n 739,\n 743,\n 751,\n 757,\n 761,\n 769,\n 773,\n 787,\n 797,\n 809,\n 811,\n 821,\n 823,\n 827,\n 829,\n 839,\n 853,\n 857,\n 859,\n 863,\n 877,\n 881,\n 883,\n 887,\n 907,\n 911,\n 919,\n 929,\n 937,\n 941,\n 947,\n 953,\n 967,\n 971,\n 977,\n 983,\n 991,\n 997]"
     },
     "execution_count": 181,
     "metadata": {},
     "output_type": "execute_result"
    }
   ],
   "source": [
    "from sympy import primerange\n",
    "list(primerange(0,1000))"
   ]
  },
  {
   "cell_type": "code",
   "execution_count": 182,
   "outputs": [
    {
     "data": {
      "text/plain": "<Figure size 1000x600 with 1 Axes>",
      "image/png": "[encoded data removed]"
     },
     "metadata": {},
     "output_type": "display_data"
    }
   ],
   "source": [
    "import matplotlib.pyplot as plt\n",
    "import numpy as np\n",
    "from sympy import primerange\n",
    "\n",
    "def check_hasse(a, b, p_max):\n",
    "    p_values = []\n",
    "    num_points = []\n",
    "    lower_bound = []\n",
    "    upper_bound = []\n",
    "\n",
    "    for p in primerange(2, p_max+1): #wykorzytuje primerange do generowania liczb pierwszych - ona generuje liczby pierwsze z przedzialu [a,b)\n",
    "        E = gen(a, b, p) #generujemy liste punktow reprezentujacych krzywa eliptyczna\n",
    "        num_E = len(E)\n",
    "        lower = p + 1 - 2 * np.sqrt(p) #zakres dolny dla naszych wartosci\n",
    "        upper = p + 1 + 2 * np.sqrt(p) #zakres gorny\n",
    "\n",
    "        p_values.append(p)\n",
    "        num_points.append(num_E)\n",
    "        lower_bound.append(lower)\n",
    "        upper_bound.append(upper)\n",
    "\n",
    "    plt.figure(figsize=(10, 6))\n",
    "    plt.plot(p_values, num_points, label='#E(p)')\n",
    "    plt.plot(p_values, lower_bound, label='p + 1 - 2sqrt(p)')\n",
    "    plt.plot(p_values, upper_bound, label='p + 1 + 2sqrt(p)')\n",
    "    plt.xlabel('p')\n",
    "    plt.ylabel('#E(p)')\n",
    "    plt.legend()\n",
    "    plt.grid(True)\n",
    "    plt.show()\n",
    "\n",
    "check_hasse(-1, 0, 1000)"
   ],
   "metadata": {
    "collapsed": false
   }
  },
  {
   "cell_type": "markdown",
   "metadata": {},
   "source": [
    "lub jakkolwiek inaczej."
   ]
  },
  {
   "cell_type": "markdown",
   "metadata": {},
   "source": [
    "## Zadanie 5 (2 pkt.)"
   ]
  },
  {
   "cell_type": "markdown",
   "metadata": {},
   "source": [
    "Napisz funkcję **ord(G,a,p)** znajdującą rząd punktu $G$ na krzywej o parametrach $a$, $p$ (oznaczenia jak w poprzednich zadaniach). Rząd elementu to $n$ takie, że $nG=\\mathcal{O}$. Znajdź punkt na krzywej o parametrach $a=-1$,$b=0$,$p=97$ o największym rzędzie, moze ich być więcej niż jeden, wybierz którykolwiek."
   ]
  },
  {
   "cell_type": "code",
   "execution_count": 183,
   "metadata": {},
   "outputs": [],
   "source": [
    "# Definicja funkcji ord(G,a,p)\n",
    "def ord(G,a,p):\n",
    "  n = 1\n",
    "  while True:\n",
    "      result = multiply(n, G, a, p)\n",
    "      if np.isnan(result).any():\n",
    "          return n\n",
    "      n += 1"
   ]
  },
  {
   "cell_type": "code",
   "execution_count": 184,
   "metadata": {},
   "outputs": [
    {
     "name": "stdout",
     "output_type": "stream",
     "text": [
      "True\n",
      "True\n",
      "True\n",
      "True\n",
      "True\n",
      "True\n"
     ]
    }
   ],
   "source": [
    "print(ord([4,4],-1,11)==3)\n",
    "print(ord([8,8],-1,11)==6)\n",
    "print(ord([3,2],-1,7)==3)\n",
    "print(ord([3,5],-1,7)==3)\n",
    "print(ord([3,2],0,5)==3)\n",
    "print(ord([0,0],0,5)==2)"
   ]
  },
  {
   "cell_type": "code",
   "execution_count": 185,
   "outputs": [
    {
     "name": "stdout",
     "output_type": "stream",
     "text": [
      "Punkt o największym rzędzie to [6, 4]\n",
      "Jego rząd to 20\n"
     ]
    }
   ],
   "source": [
    "# Znajdź punkt na krzywej y^2 = x^3 - x (mod 97) o największym rzędzie\n",
    "a = -1\n",
    "b = 0\n",
    "p = 97\n",
    "points = []\n",
    "points = gen(-1, 0 ,97)\n",
    "max_order = 0 # Zainicjuj maksymalny rząd jako 0\n",
    "max_point = None # Zainicjuj maksymalny punkt jako None\n",
    "for point in points: # Dla każdego punktu na liście\n",
    "  order = ord(point,a,p) # Oblicz rząd punktu\n",
    "  if order > max_order: # Sprawdź, czy rząd jest większy niż maksymalny rząd\n",
    "    max_order = order # Uaktualnij maksymalny rząd\n",
    "    max_point = point # Uaktualnij maksymalny punkt\n",
    "print(\"Punkt o największym rzędzie to\", max_point) # Wydrukuj maksymalny punkt\n",
    "print(\"Jego rząd to\", max_order) # Wydrukuj maksymalny rząd\n",
    "\n"
   ],
   "metadata": {
    "collapsed": false
   }
  },
  {
   "cell_type": "markdown",
   "metadata": {},
   "source": [
    "## Zadanie 6 (1 pkt)"
   ]
  },
  {
   "cell_type": "markdown",
   "metadata": {},
   "source": [
    "Prześledź działanie protokołu Diffiego-Helmana, jednak tym razem opertego o krzywe eliptyczne, i uzupełnij poszczególne kroki.\n",
    "\n",
    "Alicja i Bob ustalają publicznie krzywą eliptyczą (czyli parametry $a$, $b$, $p$) w której będą działać oraz punkt na tej krzywej $G$. Weź krzywą z poprzedniego zadania oraz znaleziony w nim punkt."
   ]
  },
  {
   "cell_type": "code",
   "execution_count": 186,
   "metadata": {},
   "outputs": [],
   "source": [
    "a = -1\n",
    "b = 0\n",
    "G = (6,4)\n",
    "p = 97"
   ]
  },
  {
   "cell_type": "markdown",
   "metadata": {},
   "source": [
    "Alicja wybiera losową liczbę naturalną $n$ z przedziału $[2,\\#E-1]$, $\\#E$ to liczba punktów na krzywej:"
   ]
  },
  {
   "cell_type": "code",
   "execution_count": 187,
   "outputs": [],
   "source": [
    "import random\n",
    "E_n = gen(a, b, p) #generujemy liste punktow reprezentujacych krzywa eliptyczna\n",
    "num_E_n = len(E_n)\n",
    "\n",
    "n = random.uniform(2, num_E_n-1)\n",
    "n=int(n)"
   ],
   "metadata": {
    "collapsed": false
   }
  },
  {
   "cell_type": "markdown",
   "metadata": {},
   "source": [
    "Następnie oblicza $A=nG$ zgodnie z zasadami mnożenia punktów na krzywej przez liczbe naturalną:"
   ]
  },
  {
   "cell_type": "code",
   "execution_count": 188,
   "metadata": {},
   "outputs": [],
   "source": [
    "A=multiply(n, G, a, p)"
   ]
  },
  {
   "cell_type": "markdown",
   "metadata": {},
   "source": [
    "To samo robi Bob, wybiera losową liczbę naturalną $m$ i oblicza $B=mG$:"
   ]
  },
  {
   "cell_type": "code",
   "execution_count": 189,
   "outputs": [],
   "source": [
    "import random\n",
    "E_m = gen(a, b, p) #generujemy liste punktow reprezentujacych krzywa eliptyczna\n",
    "num_E_m = len(E_m)\n",
    "\n",
    "m = random.uniform(2, num_E_m-1)"
   ],
   "metadata": {
    "collapsed": false
   }
  },
  {
   "cell_type": "code",
   "execution_count": 190,
   "metadata": {},
   "outputs": [
    {
     "name": "stdout",
     "output_type": "stream",
     "text": [
      "65\n",
      "[6, 93]\n"
     ]
    }
   ],
   "source": [
    "m=int(n)\n",
    "print(m)\n",
    "B=multiply(m, G, a, p)\n",
    "print(B)"
   ]
  },
  {
   "cell_type": "markdown",
   "metadata": {},
   "source": [
    "Liczby $n$ i $m$ są znane tylko, odpowiednio, Alicji i Bobowi, natomiast $A$ oraz $B$ są wymieniane publicznym kanałem. Bob otrzymuje $A$ i wykonuje operację $k_B=mA$, z kolei Alicja otrzymuje $B$ i wykonuje operację $k_A=nB$:"
   ]
  },
  {
   "cell_type": "code",
   "execution_count": 191,
   "metadata": {},
   "outputs": [],
   "source": [
    "k_B=multiply(m, A, a, p)\n",
    "k_A=multiply(n, B, a, p)"
   ]
  },
  {
   "cell_type": "code",
   "execution_count": 192,
   "metadata": {},
   "outputs": [
    {
     "data": {
      "text/plain": "True"
     },
     "execution_count": 192,
     "metadata": {},
     "output_type": "execute_result"
    }
   ],
   "source": [
    "k_A==k_B"
   ]
  },
  {
   "cell_type": "markdown",
   "metadata": {},
   "source": [
    "Zawuażmy, że $k_A=k_B$, wynika to z tego, że $k_A=nB=nmG$ oraz $k_B=mA=mnG$ a oczywiście $nm=mn$. Zatem Alicja i Bob dysponują tą samą liczbą, którą mogą użyć jako klucz do szyfrowania. Publicznie znane są wartości $a$, $b$, $p$, $G$, $nG$ oraz $mG$, jednak odzyskanie z nich $n$ i $m$ jest bardzo trudne przy odpwiednim doborze krzywej i punktu na niej."
   ]
  }
 ],
 "metadata": {
  "kernelspec": {
   "display_name": "Python 3.10.4 ('QSVM')",
   "language": "python",
   "name": "python3"
  },
  "language_info": {
   "codemirror_mode": {
    "name": "ipython",
    "version": 3
   },
   "file_extension": ".py",
   "mimetype": "text/x-python",
   "name": "python",
   "nbconvert_exporter": "python",
   "pygments_lexer": "ipython3",
   "version": "3.10.4"
  },
  "vscode": {
   "interpreter": {
    "hash": "96ad6c7fd9d06889208fc918e485ee5403ac6f6c27ad3f857e9a26d0c3a3092d"
   }
  }
 },
 "nbformat": 4,
 "nbformat_minor": 4
}
