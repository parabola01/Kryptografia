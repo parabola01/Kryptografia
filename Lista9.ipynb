{
 "cells": [
  {
   "cell_type": "markdown",
   "metadata": {},
   "source": [
    "# Lista 9 (9 pkt.)"
   ]
  },
  {
   "cell_type": "code",
   "execution_count": 1,
   "metadata": {},
   "outputs": [],
   "source": [
    "import numpy as np\n",
    "import hashlib\n",
    "import matplotlib.pyplot as plt"
   ]
  },
  {
   "cell_type": "markdown",
   "metadata": {},
   "source": [
    "## Zadanie 1 (1 pkt.)"
   ]
  },
  {
   "cell_type": "markdown",
   "metadata": {},
   "source": [
    "Wczytaj dwa obrazki: 'Campin_Boze_Narodzenie1.png' oraz 'Campin_Boze_Narodzenie2.png' jeden z nich jest zgodny z oryginałem obrazu Roberta Campin a drugi jest lekko zmodyfikowany, rozponaj prawdziwy obraz obliczając jego funkcję skrótu SHA-256 i porównując ją do skrótu podanego poniżej (w postaci szesnastkowej), który odpowiada oryginałowi:"
   ]
  },
  {
   "cell_type": "code",
   "execution_count": 2,
   "metadata": {},
   "outputs": [],
   "source": [
    "hash_original='2d08246bbb3a8f6b0c16b8d8effd2c783233a6a174496731dfff887bb41bc7e7'"
   ]
  },
  {
   "cell_type": "markdown",
   "metadata": {},
   "source": [
    "Obrazek wczytaj za pomocą:"
   ]
  },
  {
   "cell_type": "code",
   "execution_count": 3,
   "metadata": {},
   "outputs": [],
   "source": [
    "file = open('Campin_Boze_Narodzenie1.png','rb')\n",
    "obraz1=file.read()\n",
    "file.close()"
   ]
  },
  {
   "cell_type": "code",
   "execution_count": 4,
   "outputs": [
    {
     "name": "stdout",
     "output_type": "stream",
     "text": [
      "Obrazek oryginalny:\n",
      "Obrazek jest zgodny z oryginałem.\n",
      "Obrazek zmodyfikowany:\n",
      "Obrazek nie jest zgodny z oryginałem.\n"
     ]
    }
   ],
   "source": [
    "import hashlib\n",
    "\n",
    "# Ścieżki do obrazków\n",
    "path_original = 'Campin_Boze_Narodzenie1.png'\n",
    "path_modified = 'Campin_Boze_Narodzenie2.png'\n",
    "\n",
    "# Funkcja do obliczania funkcji skrótu SHA-256\n",
    "def calculate_sha256(file_path):\n",
    "    sha256_hash = hashlib.sha256()\n",
    "    with open(file_path, 'rb') as file:\n",
    "        # Odczytaj bloki danych i aktualizuj funkcję skrótu\n",
    "        for byte_block in iter(lambda: file.read(4096), b\"\"):\n",
    "            sha256_hash.update(byte_block)\n",
    "    return sha256_hash.hexdigest()\n",
    "\n",
    "# Obliczenie funkcji skrótu dla obrazków\n",
    "hash_original = calculate_sha256(path_original)\n",
    "hash_modified = calculate_sha256(path_modified)\n",
    "\n",
    "# Skrót oryginalny do porównania\n",
    "original_hash_to_compare = '2d08246bbb3a8f6b0c16b8d8effd2c783233a6a174496731dfff887bb41bc7e7'\n",
    "\n",
    "def compare(hash):\n",
    "    # Porównanie z oryginalnym skrótem\n",
    "    if hash == original_hash_to_compare:\n",
    "        print(\"Obrazek jest zgodny z oryginałem.\")\n",
    "    else:\n",
    "        print(\"Obrazek nie jest zgodny z oryginałem.\")\n",
    "\n",
    "print(f\"Obrazek oryginalny:\")\n",
    "compare(hash_original)\n",
    "print(f\"Obrazek zmodyfikowany:\")\n",
    "compare(hash_modified)"
   ],
   "metadata": {
    "collapsed": false
   }
  },
  {
   "cell_type": "markdown",
   "metadata": {},
   "source": [
    "'rb' w powyższej funkcji oznacza, że odczytujemy binarną postać obrazu. Podobnie wczytaj drugi obraz. Do policzenia funkcji skrótu użyj biblioteki hashlib: https://docs.python.org/3/library/hashlib.html"
   ]
  },
  {
   "cell_type": "markdown",
   "metadata": {},
   "source": [
    "## Zadanie 2 (2 pkt.)"
   ]
  },
  {
   "cell_type": "markdown",
   "metadata": {},
   "source": [
    "Zaimplementuj funkcję **rho_pollard()** znajdującą kolizje w funkcji skrótu za pomocą agorytmu rho Pollarda. Wypisz przykładowe pary argumentów, które mają taki sam skrót dla funkcji **simple_hash()**, która przyjmuje liczbę zapisaną szesnastkowo w postaci stringu i zwraca hash w postaci stringu z zapisem szesnastkowym."
   ]
  },
  {
   "cell_type": "code",
   "execution_count": 5,
   "outputs": [],
   "source": [
    "def simple_hash(str):\n",
    "    m = hashlib.sha256()\n",
    "    m.update(bytes(int(str,16)))\n",
    "    return m.hexdigest()[:2]"
   ],
   "metadata": {
    "collapsed": false
   }
  },
  {
   "cell_type": "code",
   "execution_count": 6,
   "metadata": {},
   "outputs": [],
   "source": [
    "from random import random\n",
    "\n",
    "def rho_pollard():\n",
    "    # Krok 1: Wybieramy losowo H1 i definiujemy H'1\n",
    "    H1 = '00'\n",
    "\n",
    "    H1_prime = H1\n",
    "    H2 = simple_hash(H1)\n",
    "    H2_prime = simple_hash(simple_hash(H1_prime))\n",
    "    # Krok 2: Iteracyjne obliczanie Hi i H'i+1, aż do znalezienia kolizji\n",
    "    i = 1\n",
    "    while H2 != H2_prime:\n",
    "        H2 = simple_hash(H2)\n",
    "        H2_prime = simple_hash(simple_hash(H2_prime))\n",
    "        i += 1\n",
    "\n",
    "    return i"
   ]
  },
  {
   "cell_type": "code",
   "execution_count": 7,
   "outputs": [
    {
     "name": "stdout",
     "output_type": "stream",
     "text": [
      "01 01\n",
      "Znaleziono kolizje dla indeksu 13 dla a i 17\n"
     ]
    }
   ],
   "source": [
    "def find_collision():\n",
    "    hashes = {}\n",
    "     # iterujemy po możliwych wartościach wejściowych\n",
    "    for i in range(256):\n",
    "        hash = simple_hash(format(i, 'x'))\n",
    "        if hash in hashes:\n",
    "            return hashes[hash], format(i, 'x')  # Znaleziono kolizję\n",
    "        hashes[hash] = format(i, 'x')\n",
    "\n",
    "    return \"Nie znaleziono kolizji\"\n",
    "\n",
    "print(simple_hash(\"a\"), simple_hash(\"17\"))\n",
    "# Wywołujemy funkcję rho_pollard() i otrzymujemy indeks\n",
    "index = rho_pollard()\n",
    "collision_h1, collision_h2 = find_collision()\n",
    "\n",
    "print(f\"Znaleziono kolizje dla indeksu {index} dla {collision_h1} i {collision_h2}\")"
   ],
   "metadata": {
    "collapsed": false
   }
  },
  {
   "cell_type": "markdown",
   "metadata": {},
   "source": [
    "## Zadanie 3 (2 pkt.)"
   ]
  },
  {
   "cell_type": "markdown",
   "metadata": {},
   "source": [
    "Napisz funkcję **HMAC(K,M)**, która przyjmuje klucz oraz wiadomość a zwraca kod HMAC, wszystko w postaci stringu bitów. Funkcja **hash()** to funkcja SHA256 ale przyjmująca i zwracająca dane w postaci stringu bitów. Przyjmij długość bloku 64 bity (przypadek DESa)."
   ]
  },
  {
   "cell_type": "code",
   "execution_count": 8,
   "metadata": {},
   "outputs": [],
   "source": [
    "import hashlib, hmac, binascii\n",
    "# kryptograficzne sumy kontrolne\n",
    "def HMAC(K, M):\n",
    "    # Długość bloku dla DES to 64 bity\n",
    "    B = 64\n",
    "\n",
    "    if len(K) > B:\n",
    "        K = hash(K)\n",
    "    elif len(K) < B:\n",
    "        K = K.ljust(B, '0') # dopełniam zerami\n",
    "\n",
    "    ipad = '00110110' * B # 36 in hex\n",
    "    opad = '01011100' * B # 5C in hex\n",
    "\n",
    "    #obliczam klucze pochodne, XOR między K a stałymi opad i ipad\n",
    "    K_ipad = ''.join([str(int(x, 2) ^ int(y, 2)) for x, y in zip(K, ipad)])\n",
    "    K_opad = ''.join([str(int(x, 2) ^ int(y, 2)) for x, y in zip(K, opad)])\n",
    "\n",
    "    result = hash(K_opad + hash(K_ipad + M))\n",
    "\n",
    "    return result\n"
   ]
  },
  {
   "cell_type": "code",
   "execution_count": 9,
   "metadata": {},
   "outputs": [],
   "source": [
    "def hash(i):\n",
    "    m = hashlib.sha256()\n",
    "    m.update(int(i,2).to_bytes(len(i),'little'))\n",
    "    return format(int(m.hexdigest(),16),'0256b')"
   ]
  },
  {
   "cell_type": "code",
   "execution_count": 10,
   "metadata": {},
   "outputs": [
    {
     "name": "stdout",
     "output_type": "stream",
     "text": [
      "True\n",
      "True\n",
      "True\n"
     ]
    }
   ],
   "source": [
    "print(HMAC('0010111000111100100000001100001000110000100011001110011110010000','0100011001010010011011010100100100011101011101111011010000101010')\n",
    "    == '1101011010010010001001010001100000001011000100001100101110111010000001000000110000001111011111110101011101111010110111001111001001001010000011110101110101010000100011110100101000111001000111000011111000011111001001110000110001111100110011110010100110000100')\n",
    "print(HMAC('1000110000100011001111011101000000010001110101110011101011000110','1100110101011010110010110011001001010000000000111000011011000011')\n",
    "    == '0100010101000110011101000100111010101111011110001010001001011000010001011100010100000000010010110000100010010101011011000010111000001110000101100011101100111111001000101101110011101100001111000000011111011111100001010111010011010010101100010101011100111010')\n",
    "print(HMAC('0010100101111010101111100000101110110001011111100101000010001010','1110001110111101101100001010001110011101011111101010110011000000')\n",
    "    == '1101010101011101110011000000111100111100100100011001011000001011101001100011011011010100110100010110101100000011010100000100111100111111100001110100000100100111100011111011000110101010000101110001110111101110011001000010001001001010010011000000111000011111')"
   ]
  },
  {
   "cell_type": "markdown",
   "metadata": {},
   "source": [
    "Zmienne **msg_enc1** oraz **msg_enc2** zawierają dwie wiadomości. Jedna z nich jest poprawna druga ma zmieniony jeden bit. Wiemy, że wiadomośc zaszyfrowano za pomocą DESa z kluczem **key** i nadawca dodał do niej kod HMAC zawarty w zmiennej $hmac$. Sprawdź, która z otrzymanych wiadomości jest poprawna."
   ]
  },
  {
   "cell_type": "code",
   "execution_count": 11,
   "metadata": {},
   "outputs": [],
   "source": [
    "msg_enc1 = '0110011010100110101010011000011111010000110111011011110110110101'\n",
    "msg_enc2 = '0110011010100110101010011000011111010000110111010011110110110101'\n",
    "key = '0001101100001110010010101101001101101010000100100000100001101100'"
   ]
  },
  {
   "cell_type": "code",
   "execution_count": 12,
   "metadata": {},
   "outputs": [],
   "source": [
    "hmac = '1010011101011000110010101011100100001001110111010000110100110111001001110010001101001010000011010001001101010100000010100111110010101011001101001010101100110110000101101110100000010001101011011011110011110111011100110000011010110001110000011000011100101001'"
   ]
  },
  {
   "cell_type": "code",
   "execution_count": 13,
   "outputs": [
    {
     "name": "stdout",
     "output_type": "stream",
     "text": [
      "msg_enc1 poprawna\n",
      "msg_enc2 niepoprawna\n"
     ]
    }
   ],
   "source": [
    "msg1 = HMAC(key, msg_enc1)\n",
    "\n",
    "if msg1 == hmac:\n",
    "    print(\"msg_enc1 poprawna\")\n",
    "else:\n",
    "    print(\"msg_enc1 niepoprawna\")\n",
    "    msg2 = HMAC(key, msg_enc2)\n",
    "\n",
    "msg2 = HMAC(key, msg_enc2)\n",
    "if msg2 == hmac:\n",
    "    print(\"msg_enc2 poprawna\")\n",
    "else:\n",
    "    print(\"msg_enc2 niepoprawna\")"
   ],
   "metadata": {
    "collapsed": false
   }
  },
  {
   "cell_type": "markdown",
   "metadata": {},
   "source": [
    "## Zadanie 4 (2 pkt.)"
   ]
  },
  {
   "cell_type": "markdown",
   "metadata": {},
   "source": [
    "Napisz funkcję **sign(file_name, e, n)** generującą podpis elektroniczny pliku, gdzie **file_name** to nazwa pliku, $e$ i $n$ to klucz prywatny algorymtu RSA, oznaczenia jak na liście 7., funkcja ma zwracać podpis w postaci stringu z zapisem szesnastkowym."
   ]
  },
  {
   "cell_type": "code",
   "execution_count": 14,
   "outputs": [],
   "source": [
    "def extended_gcd(a, b):\n",
    "    # Warunek bazowy: GCD(a, 0) = a\n",
    "    if a == 0:\n",
    "        return b, 0, 1\n",
    "    else:\n",
    "        g, x, y = extended_gcd(b % a, a)\n",
    "        # Zwraca GCD oraz współczynniki x i y dla danej pary (a, b)\n",
    "        return g, y - (b // a) * x, x\n",
    "\n",
    "def inv(p, n):\n",
    "    g, x, y = extended_gcd(p, n)\n",
    "\n",
    "    if g != 1:\n",
    "        raise ValueError(\"The modular inverse does not exist.\")\n",
    "    else:\n",
    "        return x % n\n",
    "\n",
    "def key_gen(p, q):\n",
    "    n = p * q\n",
    "    euler = (q - 1) * (p - 1)\n",
    "\n",
    "    e = 65537\n",
    "    d = inv(e, euler)\n",
    "\n",
    "    return n, e, d"
   ],
   "metadata": {
    "collapsed": false
   }
  },
  {
   "cell_type": "code",
   "execution_count": 15,
   "metadata": {},
   "outputs": [],
   "source": [
    "import hashlib\n",
    "\n",
    "def sign(file_name, e, n):\n",
    "    # Wczytaj plik\n",
    "    with open(file_name, 'rb') as file:\n",
    "        file_data = file.read()\n",
    "\n",
    "    # Oblicz skrót (hash) pliku (SHA-256)\n",
    "    file_hash = hashlib.sha256(file_data).digest()\n",
    "\n",
    "    # Konwertuj skrót na liczbę całkowitą\n",
    "    m = int.from_bytes(file_hash, 'big')\n",
    "\n",
    "    # Wygeneruj podpis\n",
    "    signature = pow(m, e, n)\n",
    "    # Konwertuj podpis na string zapisany w formie szesnastkowej\n",
    "    signature_hex = hex(signature)[2:]\n",
    "\n",
    "    return signature_hex"
   ]
  },
  {
   "cell_type": "markdown",
   "metadata": {},
   "source": [
    "Napisz funkcję **check_sign(file_name, d, n, sign)** weryfikującą autentyczność podpisu, gdzie **file_name** to nazwa pliku $d$ i $n$ to klucz publiczny autora podpisu a $sign$ to podpis, funkcja ma zwracać **True** lub **False**."
   ]
  },
  {
   "cell_type": "code",
   "execution_count": 16,
   "metadata": {},
   "outputs": [],
   "source": [
    "def check_sign(file_name, d, n, sign):\n",
    "    # Wczytaj plik\n",
    "    with open(file_name, 'rb') as file:\n",
    "        file_data = file.read()\n",
    "\n",
    "    # Oblicz skrót (hash) pliku (SHA-256)\n",
    "    file_hash = hashlib.sha256(file_data).digest()\n",
    "\n",
    "    # Konwertuj skrót na liczbę całkowitą\n",
    "    m = int.from_bytes(file_hash, 'big')\n",
    "\n",
    "    # Odtwórz oryginalny skrót z podpisu\n",
    "    reconstructed_hash = pow(int(sign, 16), d, n)\n",
    "\n",
    "    # Sprawdź, czy odtworzony skrót jest taki sam jak obliczony skrót\n",
    "    return reconstructed_hash == m\n"
   ]
  },
  {
   "cell_type": "markdown",
   "metadata": {},
   "source": [
    "Wygeneruj klucze RSA z liczb pierwszych $p$ i $q$ i użyj ich w testach."
   ]
  },
  {
   "cell_type": "code",
   "execution_count": 17,
   "metadata": {},
   "outputs": [],
   "source": [
    "p=24130780476900131841553779066939443255102203937160657723394451174808141403858935238883126295228560935516885174421847238379397184900972008801015315248328437\n",
    "q=26660613491521684005574100352062919789979599401844483402246984186988668019447679726081352452799126206997555710356464145743285983450292024894053538317854159"
   ]
  },
  {
   "cell_type": "code",
   "execution_count": 18,
   "outputs": [],
   "source": [
    "n, e, d = key_gen(p, q)"
   ],
   "metadata": {
    "collapsed": false
   }
  },
  {
   "cell_type": "code",
   "execution_count": 19,
   "metadata": {},
   "outputs": [
    {
     "name": "stdout",
     "output_type": "stream",
     "text": [
      "True\n",
      "True\n"
     ]
    }
   ],
   "source": [
    "print(sign('correlation.png',e,n)=='1d5e7cd47f75b13159a37c8ffb3ba7d9f43a21f4758ae06e856da0a468fd1772f7b8b52d0f948fd02610e0e05a54c0fff12d7bd27575583cfdf53b124e9c0e95df1de156aa0af52239f1329ab69000b4a6a61d3d45f190c4b9df4ca4b7d30904162727353a8fb09c9faf847eeb0f6f65394d92cb57ced2cdcff36c444394e3fff')\n",
    "print(sign('Campin_Boze_Narodzenie1.png',e,n)=='1c6097177871bb4873fcd0ae658d28f46fcc54e4b0e595954a57c0008f8b86c7427cecf28296240025941fe2a019b80fcc5f43c4cae6b1d2163cecf8438336d3da6e33ae326dfa2c0e5ea7bbad511dd140bc7b0cd34829623bfd02bc66bc9b43d57443b7fd950bea5cb5f5df99d8611eeb0d4458b19809e3ff86abf6538c3e453')"
   ]
  },
  {
   "cell_type": "code",
   "execution_count": 20,
   "metadata": {},
   "outputs": [
    {
     "name": "stdout",
     "output_type": "stream",
     "text": [
      "True\n",
      "True\n",
      "True\n",
      "True\n"
     ]
    }
   ],
   "source": [
    "print(check_sign('correlation.png',d,n,'1d5e7cd47f75b13159a37c8ffb3ba7d9f43a21f4758ae06e856da0a468fd1772f7b8b52d0f948fd02610e0e05a54c0fff12d7bd27575583cfdf53b124e9c0e95df1de156aa0af52239f1329ab69000b4a6a61d3d45f190c4b9df4ca4b7d30904162727353a8fb09c9faf847eeb0f6f65394d92cb57ced2cdcff36c444394e3fff')==True)\n",
    "print(check_sign('correlation.png',d,n,'1d5e7cd47f75b13159a37c8ffb3ba7d9f43a21f4758ae06e856ba0a468fd1772f7b8b52d0f948fd02610e0e05a54c0fff12d7bd27575583cfdf53b124e9c0e95df1de156aa0af52239f1329ab69000b4a6a61d3d45f190c4b9df4ca4b7d30904162727353a8fb09c9faf847eeb0f6f65394d92cb57ced2cdcff36c444394e3fff')==False)\n",
    "print(check_sign('Campin_Boze_Narodzenie1.png',d,n,'1c6097177871bb4873fcd0ae658d28f46fcc54e4b0e595954a57c0008f8b86c7427cecf28296240025941fe2a019b80fcc5f43c4cae6b1d2163cecf8438336d3da6e33ae326dfa2c0e5ea7bbad511dd140bc7b0cd34829623bfd02bc66bc9b43d57443b7fd950bea5cb5f5df99d8611eeb0d4458b19809e3ff86abf6538c3e453')==True)\n",
    "print(check_sign('Campin_Boze_Narodzenie1.png',d,n,'1c6097177871bb4873fcd0ae658d28f46fec54e4b0e595954a57c0008f8b86c7427cecf28296240025941fe2a019b80fcc5f43c4cae6b1d2163cecf8438336d3da6e33ae326dfa2c0e5ea7bbad511dd140bc7b0cd34829623bfd02bc66bc9b43d57443b7fd950bea5cb5f5df99d8611eeb0d4458b19809e3ff86abf6538c3e453')==False)"
   ]
  },
  {
   "cell_type": "markdown",
   "metadata": {},
   "source": [
    "## Zadanie 5 (2 pkt.)"
   ]
  },
  {
   "cell_type": "markdown",
   "metadata": {},
   "source": [
    "\"Kopanie\" Bitcoina polega w uproszczeniu na szukaniu liczby dla której funkcja skrótu zwraca wartość mniejszą niż pewien próg, tzn. wartośc funkcji skrótu musi zaczynać się odpowiednią liczbą zer w zapisie bitowym. Jako, że funkcja skrótu ma właściwości pseudolosowe, szukamy tej liczby sprawdzając po kolei wszystkie liczby. Napisz funkcję **mine(d)**, szukającą takiej liczby $i$ dla której **SHA256(i)** zaczyna się w zapisie bitowym $d$ zerami. Podstawiaj kolejno liczby $0,1,2,3,...$. Funkcja ma zwracać liczbę dla której udało się spełnić warunek.\n",
    "\n",
    "Uwaga: aby podać zmienną typu **int** jako argument do hashlib.sha256() należy przekonwerstować ją za pomocą **bytes()**"
   ]
  },
  {
   "cell_type": "code",
   "execution_count": 21,
   "metadata": {},
   "outputs": [
    {
     "data": {
      "text/plain": "<Figure size 640x480 with 1 Axes>",
      "image/png": "[encoded data removed]"
     },
     "metadata": {},
     "output_type": "display_data"
    }
   ],
   "source": [
    "import matplotlib.pyplot as plt\n",
    "def mine(d):\n",
    "    i = 0\n",
    "    while True:\n",
    "        data = bytes(str(i), 'utf-8')\n",
    "        hash_value = hashlib.sha256(data).hexdigest()\n",
    "\n",
    "        if hash_value.startswith('0' * d):\n",
    "            return i\n",
    "\n",
    "        i += 1\n",
    "\n",
    "def plot_mine_results(max_d):\n",
    "    d_values = list(range(1, max_d + 1))\n",
    "    i_values = [mine(d) for d in d_values]\n",
    "\n",
    "    # Rysowanie wykresu\n",
    "    plt.scatter(d_values, i_values, label='mine(d)')\n",
    "    plt.yscale('symlog')  # Ustawienie skali logarytmicznej\n",
    "    plt.xlabel('Liczba zer na początku')\n",
    "    plt.ylabel('Liczba iteracji (i)')\n",
    "    plt.title('Zależność liczby iteracji od liczby zer na początku')\n",
    "\n",
    "    # Teoretyczna zależność (średnia ilość prób)\n",
    "    theoretical_values = [2 ** d for d in d_values]\n",
    "    plt.plot(d_values, theoretical_values, label='Teoretyczna zależność', linestyle='dashed', color='red')\n",
    "\n",
    "    plt.legend()\n",
    "    plt.show()\n",
    "\n",
    "plot_mine_results(7)"
   ]
  },
  {
   "cell_type": "markdown",
   "metadata": {},
   "source": [
    "Wykonaj funkcję **mine(d)** dla kilkunastu wartości $d$ i narysuj wykres **plt.scatter()** zależności **i(d)**.\n",
    "\n",
    "Uwaga: użyj skali logarytmicznej **plt.yscale('symlog')**.\n",
    "\n",
    "Zastanów się ile teoretycznie (średnio) należy wykonać prób aby znaleźć funkcję skrótu z $d$ zerami na początku. Narysuj na wykresie linię obrazującą tą zależność i porównaj z punktami uzyskanymi z funkcji **mine()**.\n",
    "\n",
    "Powtórz pomiary, ale zamiast brać kolejne liczby, bierz losowe. Sprawdź czy daje to lepsze rezultaty."
   ]
  },
  {
   "cell_type": "code",
   "execution_count": 25,
   "outputs": [
    {
     "data": {
      "text/plain": "<Figure size 640x480 with 1 Axes>",
      "image/png": "[encoded data removed]"
     },
     "metadata": {},
     "output_type": "display_data"
    }
   ],
   "source": [
    "import hashlib\n",
    "import random\n",
    "import matplotlib.pyplot as plt\n",
    "\n",
    "def mine_random(d):\n",
    "    i = 0\n",
    "    while True:\n",
    "        random_number = random.randint(0, 1000000)\n",
    "        data = bytes(str(random_number), 'utf-8')\n",
    "        hash_value = hashlib.sha256(data).hexdigest()\n",
    "\n",
    "        if hash_value.startswith('0' * d):\n",
    "            return i\n",
    "\n",
    "        i += 1\n",
    "\n",
    "def plot_mine_results_random(max_d):\n",
    "    d_values = list(range(1, max_d + 1))\n",
    "    i_values = [mine_random(d) for d in d_values]\n",
    "\n",
    "    # Plotting the results\n",
    "    plt.scatter(d_values, i_values, label='mine_random(d)')\n",
    "    plt.yscale('symlog')  # Set logarithmic scale\n",
    "    plt.xlabel('Liczba zer na początku')\n",
    "    plt.ylabel('Liczba iteracji (i)')\n",
    "    plt.title('Zależność liczby iteracji od liczby zer na początku')\n",
    "    # Theoretical relationship (average number of attempts)\n",
    "    theoretical_values = [2 ** d for d in d_values]\n",
    "    plt.plot(d_values, theoretical_values, label='Theoretical relationship', linestyle='dashed', color='red')\n",
    "\n",
    "    plt.legend()\n",
    "    plt.show()\n",
    "\n",
    "plot_mine_results_random(7)\n"
   ],
   "metadata": {
    "collapsed": false
   }
  }
 ],
 "metadata": {
  "kernelspec": {
   "display_name": "Python 3 (ipykernel)",
   "language": "python",
   "name": "python3"
  },
  "language_info": {
   "codemirror_mode": {
    "name": "ipython",
    "version": 3
   },
   "file_extension": ".py",
   "mimetype": "text/x-python",
   "name": "python",
   "nbconvert_exporter": "python",
   "pygments_lexer": "ipython3",
   "version": "3.9.18"
  },
  "vscode": {
   "interpreter": {
    "hash": "96ad6c7fd9d06889208fc918e485ee5403ac6f6c27ad3f857e9a26d0c3a3092d"
   }
  }
 },
 "nbformat": 4,
 "nbformat_minor": 4
}
